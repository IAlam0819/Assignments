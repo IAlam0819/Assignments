{
  "nbformat": 4,
  "nbformat_minor": 0,
  "metadata": {
    "colab": {
      "name": "Assignment1",
      "provenance": [],
      "collapsed_sections": [],
      "authorship_tag": "ABX9TyNMJ5foU09VDpswsRLLdn24",
      "include_colab_link": true
    },
    "kernelspec": {
      "name": "python3",
      "display_name": "Python 3"
    }
  },
  "cells": [
    {
      "cell_type": "markdown",
      "metadata": {
        "id": "view-in-github",
        "colab_type": "text"
      },
      "source": [
        "<a href=\"https://colab.research.google.com/github/IAlam0819/Assignments/blob/main/Assignment1.ipynb\" target=\"_parent\"><img src=\"https://colab.research.google.com/assets/colab-badge.svg\" alt=\"Open In Colab\"/></a>"
      ]
    },
    {
      "cell_type": "markdown",
      "metadata": {
        "id": "rvfCAc8SdToY"
      },
      "source": [
        "# **Mounting the Drive**"
      ]
    },
    {
      "cell_type": "code",
      "metadata": {
        "id": "6nsd4aS3dQIn",
        "colab": {
          "base_uri": "https://localhost:8080/",
          "height": 34
        },
        "outputId": "14562cdf-c296-43e5-a843-c8884a3041e1"
      },
      "source": [
        "from google.colab import drive\n",
        "import os\n",
        "drive.mount('/content/gdrive')"
      ],
      "execution_count": null,
      "outputs": [
        {
          "output_type": "stream",
          "text": [
            "Drive already mounted at /content/gdrive; to attempt to forcibly remount, call drive.mount(\"/content/gdrive\", force_remount=True).\n"
          ],
          "name": "stdout"
        }
      ]
    },
    {
      "cell_type": "code",
      "metadata": {
        "id": "JOCtqtxddYGj",
        "colab": {
          "base_uri": "https://localhost:8080/",
          "height": 72
        },
        "outputId": "6b22569f-0064-42a3-d547-51eb5a448279"
      },
      "source": [
        "#importing libraries\n",
        "import pandas as pd\n",
        "import numpy as np\n",
        "import matplotlib.pyplot as plt\n",
        "%matplotlib inline\n",
        "import seaborn as sns"
      ],
      "execution_count": null,
      "outputs": [
        {
          "output_type": "stream",
          "text": [
            "/usr/local/lib/python3.6/dist-packages/statsmodels/tools/_testing.py:19: FutureWarning: pandas.util.testing is deprecated. Use the functions in the public API at pandas.testing instead.\n",
            "  import pandas.util.testing as tm\n"
          ],
          "name": "stderr"
        }
      ]
    },
    {
      "cell_type": "markdown",
      "metadata": {
        "id": "8EWr-D2jfbkE"
      },
      "source": [
        "# **Exploratory Data Analysis**"
      ]
    },
    {
      "cell_type": "code",
      "metadata": {
        "id": "eZAglocIeK9k",
        "colab": {
          "base_uri": "https://localhost:8080/",
          "height": 313
        },
        "outputId": "d7f3b51b-116f-4cc4-9075-35fa71b538d5"
      },
      "source": [
        "#importing the excel file\n",
        "data = pd.read_excel('/content/gdrive/My Drive/Colab Notebooks/dataset/Data Analyst Assignment .xlsx', sheet_name='Assignment-1')\n",
        "data.head()"
      ],
      "execution_count": null,
      "outputs": [
        {
          "output_type": "execute_result",
          "data": {
            "text/html": [
              "<div>\n",
              "<style scoped>\n",
              "    .dataframe tbody tr th:only-of-type {\n",
              "        vertical-align: middle;\n",
              "    }\n",
              "\n",
              "    .dataframe tbody tr th {\n",
              "        vertical-align: top;\n",
              "    }\n",
              "\n",
              "    .dataframe thead th {\n",
              "        text-align: right;\n",
              "    }\n",
              "</style>\n",
              "<table border=\"1\" class=\"dataframe\">\n",
              "  <thead>\n",
              "    <tr style=\"text-align: right;\">\n",
              "      <th></th>\n",
              "      <th>Date</th>\n",
              "      <th>product</th>\n",
              "      <th>phase</th>\n",
              "      <th>campaign_platform</th>\n",
              "      <th>campaign_type</th>\n",
              "      <th>communication_medium</th>\n",
              "      <th>subchannel</th>\n",
              "      <th>audience_type</th>\n",
              "      <th>creative_type</th>\n",
              "      <th>creative_name</th>\n",
              "      <th>device</th>\n",
              "      <th>age</th>\n",
              "      <th>spends</th>\n",
              "      <th>impressions</th>\n",
              "      <th>clicks</th>\n",
              "      <th>link_clicks</th>\n",
              "    </tr>\n",
              "  </thead>\n",
              "  <tbody>\n",
              "    <tr>\n",
              "      <th>0</th>\n",
              "      <td>2019-10-16</td>\n",
              "      <td>Product 1</td>\n",
              "      <td>Performance</td>\n",
              "      <td>Google Ads</td>\n",
              "      <td>Search</td>\n",
              "      <td>Search Keywords</td>\n",
              "      <td>Brand</td>\n",
              "      <td>'-</td>\n",
              "      <td>'-</td>\n",
              "      <td>'-</td>\n",
              "      <td>Desktop</td>\n",
              "      <td>18-24</td>\n",
              "      <td>0.00</td>\n",
              "      <td>2</td>\n",
              "      <td>0</td>\n",
              "      <td>0.0</td>\n",
              "    </tr>\n",
              "    <tr>\n",
              "      <th>1</th>\n",
              "      <td>2019-10-16</td>\n",
              "      <td>Product 1</td>\n",
              "      <td>Performance</td>\n",
              "      <td>Google Ads</td>\n",
              "      <td>Search</td>\n",
              "      <td>Search Keywords</td>\n",
              "      <td>Brand</td>\n",
              "      <td>'-</td>\n",
              "      <td>'-</td>\n",
              "      <td>'-</td>\n",
              "      <td>Desktop</td>\n",
              "      <td>25-34</td>\n",
              "      <td>0.00</td>\n",
              "      <td>5</td>\n",
              "      <td>0</td>\n",
              "      <td>0.0</td>\n",
              "    </tr>\n",
              "    <tr>\n",
              "      <th>2</th>\n",
              "      <td>2019-10-16</td>\n",
              "      <td>Product 1</td>\n",
              "      <td>Performance</td>\n",
              "      <td>Google Ads</td>\n",
              "      <td>Search</td>\n",
              "      <td>Search Keywords</td>\n",
              "      <td>Brand</td>\n",
              "      <td>'-</td>\n",
              "      <td>'-</td>\n",
              "      <td>'-</td>\n",
              "      <td>Desktop</td>\n",
              "      <td>35-44</td>\n",
              "      <td>0.00</td>\n",
              "      <td>1</td>\n",
              "      <td>0</td>\n",
              "      <td>0.0</td>\n",
              "    </tr>\n",
              "    <tr>\n",
              "      <th>3</th>\n",
              "      <td>2019-10-16</td>\n",
              "      <td>Product 1</td>\n",
              "      <td>Performance</td>\n",
              "      <td>Google Ads</td>\n",
              "      <td>Search</td>\n",
              "      <td>Search Keywords</td>\n",
              "      <td>Brand</td>\n",
              "      <td>'-</td>\n",
              "      <td>'-</td>\n",
              "      <td>'-</td>\n",
              "      <td>Desktop</td>\n",
              "      <td>Undetermined</td>\n",
              "      <td>14.63</td>\n",
              "      <td>5</td>\n",
              "      <td>3</td>\n",
              "      <td>0.0</td>\n",
              "    </tr>\n",
              "    <tr>\n",
              "      <th>4</th>\n",
              "      <td>2019-10-18</td>\n",
              "      <td>Product 1</td>\n",
              "      <td>Performance</td>\n",
              "      <td>Google Ads</td>\n",
              "      <td>Search</td>\n",
              "      <td>Search Keywords</td>\n",
              "      <td>Brand</td>\n",
              "      <td>'-</td>\n",
              "      <td>'-</td>\n",
              "      <td>'-</td>\n",
              "      <td>Desktop</td>\n",
              "      <td>18-24</td>\n",
              "      <td>53.31</td>\n",
              "      <td>10</td>\n",
              "      <td>2</td>\n",
              "      <td>0.0</td>\n",
              "    </tr>\n",
              "  </tbody>\n",
              "</table>\n",
              "</div>"
            ],
            "text/plain": [
              "        Date    product        phase  ... impressions clicks link_clicks\n",
              "0 2019-10-16  Product 1  Performance  ...           2      0         0.0\n",
              "1 2019-10-16  Product 1  Performance  ...           5      0         0.0\n",
              "2 2019-10-16  Product 1  Performance  ...           1      0         0.0\n",
              "3 2019-10-16  Product 1  Performance  ...           5      3         0.0\n",
              "4 2019-10-18  Product 1  Performance  ...          10      2         0.0\n",
              "\n",
              "[5 rows x 16 columns]"
            ]
          },
          "metadata": {
            "tags": []
          },
          "execution_count": 3
        }
      ]
    },
    {
      "cell_type": "code",
      "metadata": {
        "id": "OCvAK5qdejO-",
        "colab": {
          "base_uri": "https://localhost:8080/",
          "height": 34
        },
        "outputId": "e0f0e1a1-86f0-4d08-d641-bc049d87cf4f"
      },
      "source": [
        "#shape of the data\n",
        "data.shape"
      ],
      "execution_count": null,
      "outputs": [
        {
          "output_type": "execute_result",
          "data": {
            "text/plain": [
              "(16834, 16)"
            ]
          },
          "metadata": {
            "tags": []
          },
          "execution_count": 4
        }
      ]
    },
    {
      "cell_type": "code",
      "metadata": {
        "id": "-KlJYV6peptm",
        "colab": {
          "base_uri": "https://localhost:8080/",
          "height": 34
        },
        "outputId": "b17d61b4-fc09-41c4-a50f-eea335fae1c5"
      },
      "source": [
        "# If there are any null values in data set\n",
        "data.isnull().values.any()"
      ],
      "execution_count": null,
      "outputs": [
        {
          "output_type": "execute_result",
          "data": {
            "text/plain": [
              "True"
            ]
          },
          "metadata": {
            "tags": []
          },
          "execution_count": 5
        }
      ]
    },
    {
      "cell_type": "code",
      "metadata": {
        "id": "Xryc-V2beuNH",
        "colab": {
          "base_uri": "https://localhost:8080/",
          "height": 312
        },
        "outputId": "e924e5b8-f92d-4e91-b520-dfffaf9e1277"
      },
      "source": [
        "#missing values\n",
        "data.isnull().sum()"
      ],
      "execution_count": null,
      "outputs": [
        {
          "output_type": "execute_result",
          "data": {
            "text/plain": [
              "Date                      0\n",
              "product                   0\n",
              "phase                     0\n",
              "campaign_platform         0\n",
              "campaign_type             0\n",
              "communication_medium      0\n",
              "subchannel                0\n",
              "audience_type             0\n",
              "creative_type             0\n",
              "creative_name             0\n",
              "device                    0\n",
              "age                       0\n",
              "spends                    0\n",
              "impressions               0\n",
              "clicks                    0\n",
              "link_clicks             546\n",
              "dtype: int64"
            ]
          },
          "metadata": {
            "tags": []
          },
          "execution_count": 6
        }
      ]
    },
    {
      "cell_type": "code",
      "metadata": {
        "id": "i3WCYGfoiyuz",
        "colab": {
          "base_uri": "https://localhost:8080/",
          "height": 416
        },
        "outputId": "aabde9eb-7ec1-4fa9-cf51-14f35fe3fec9"
      },
      "source": [
        "#info of the data\n",
        "data.info()"
      ],
      "execution_count": null,
      "outputs": [
        {
          "output_type": "stream",
          "text": [
            "<class 'pandas.core.frame.DataFrame'>\n",
            "RangeIndex: 16834 entries, 0 to 16833\n",
            "Data columns (total 16 columns):\n",
            " #   Column                Non-Null Count  Dtype         \n",
            "---  ------                --------------  -----         \n",
            " 0   Date                  16834 non-null  datetime64[ns]\n",
            " 1   product               16834 non-null  object        \n",
            " 2   phase                 16834 non-null  object        \n",
            " 3   campaign_platform     16834 non-null  object        \n",
            " 4   campaign_type         16834 non-null  object        \n",
            " 5   communication_medium  16834 non-null  object        \n",
            " 6   subchannel            16834 non-null  object        \n",
            " 7   audience_type         16834 non-null  object        \n",
            " 8   creative_type         16834 non-null  object        \n",
            " 9   creative_name         16834 non-null  object        \n",
            " 10  device                16834 non-null  object        \n",
            " 11  age                   16834 non-null  object        \n",
            " 12  spends                16834 non-null  float64       \n",
            " 13  impressions           16834 non-null  int64         \n",
            " 14  clicks                16834 non-null  int64         \n",
            " 15  link_clicks           16288 non-null  float64       \n",
            "dtypes: datetime64[ns](1), float64(2), int64(2), object(11)\n",
            "memory usage: 2.1+ MB\n"
          ],
          "name": "stdout"
        }
      ]
    },
    {
      "cell_type": "code",
      "metadata": {
        "id": "J8QMNP9Qi_zC",
        "colab": {
          "base_uri": "https://localhost:8080/",
          "height": 300
        },
        "outputId": "5c2e8301-cec7-4a0b-e9c5-2a7a77b3258d"
      },
      "source": [
        "#info of the numerical variables\n",
        "data.describe()"
      ],
      "execution_count": null,
      "outputs": [
        {
          "output_type": "execute_result",
          "data": {
            "text/html": [
              "<div>\n",
              "<style scoped>\n",
              "    .dataframe tbody tr th:only-of-type {\n",
              "        vertical-align: middle;\n",
              "    }\n",
              "\n",
              "    .dataframe tbody tr th {\n",
              "        vertical-align: top;\n",
              "    }\n",
              "\n",
              "    .dataframe thead th {\n",
              "        text-align: right;\n",
              "    }\n",
              "</style>\n",
              "<table border=\"1\" class=\"dataframe\">\n",
              "  <thead>\n",
              "    <tr style=\"text-align: right;\">\n",
              "      <th></th>\n",
              "      <th>spends</th>\n",
              "      <th>impressions</th>\n",
              "      <th>clicks</th>\n",
              "      <th>link_clicks</th>\n",
              "    </tr>\n",
              "  </thead>\n",
              "  <tbody>\n",
              "    <tr>\n",
              "      <th>count</th>\n",
              "      <td>16834.000000</td>\n",
              "      <td>16834.000000</td>\n",
              "      <td>16834.000000</td>\n",
              "      <td>16288.000000</td>\n",
              "    </tr>\n",
              "    <tr>\n",
              "      <th>mean</th>\n",
              "      <td>148.694236</td>\n",
              "      <td>287.959190</td>\n",
              "      <td>11.977783</td>\n",
              "      <td>2.170371</td>\n",
              "    </tr>\n",
              "    <tr>\n",
              "      <th>std</th>\n",
              "      <td>483.895724</td>\n",
              "      <td>2444.450313</td>\n",
              "      <td>44.796963</td>\n",
              "      <td>18.659132</td>\n",
              "    </tr>\n",
              "    <tr>\n",
              "      <th>min</th>\n",
              "      <td>0.000000</td>\n",
              "      <td>0.000000</td>\n",
              "      <td>0.000000</td>\n",
              "      <td>0.000000</td>\n",
              "    </tr>\n",
              "    <tr>\n",
              "      <th>25%</th>\n",
              "      <td>0.180000</td>\n",
              "      <td>3.000000</td>\n",
              "      <td>0.000000</td>\n",
              "      <td>0.000000</td>\n",
              "    </tr>\n",
              "    <tr>\n",
              "      <th>50%</th>\n",
              "      <td>22.535000</td>\n",
              "      <td>13.000000</td>\n",
              "      <td>2.000000</td>\n",
              "      <td>0.000000</td>\n",
              "    </tr>\n",
              "    <tr>\n",
              "      <th>75%</th>\n",
              "      <td>110.020000</td>\n",
              "      <td>64.000000</td>\n",
              "      <td>8.000000</td>\n",
              "      <td>0.000000</td>\n",
              "    </tr>\n",
              "    <tr>\n",
              "      <th>max</th>\n",
              "      <td>9221.960000</td>\n",
              "      <td>67454.000000</td>\n",
              "      <td>1075.000000</td>\n",
              "      <td>450.000000</td>\n",
              "    </tr>\n",
              "  </tbody>\n",
              "</table>\n",
              "</div>"
            ],
            "text/plain": [
              "             spends   impressions        clicks   link_clicks\n",
              "count  16834.000000  16834.000000  16834.000000  16288.000000\n",
              "mean     148.694236    287.959190     11.977783      2.170371\n",
              "std      483.895724   2444.450313     44.796963     18.659132\n",
              "min        0.000000      0.000000      0.000000      0.000000\n",
              "25%        0.180000      3.000000      0.000000      0.000000\n",
              "50%       22.535000     13.000000      2.000000      0.000000\n",
              "75%      110.020000     64.000000      8.000000      0.000000\n",
              "max     9221.960000  67454.000000   1075.000000    450.000000"
            ]
          },
          "metadata": {
            "tags": []
          },
          "execution_count": 8
        }
      ]
    },
    {
      "cell_type": "code",
      "metadata": {
        "id": "mVSfMr8ukXqD",
        "colab": {
          "base_uri": "https://localhost:8080/",
          "height": 1000
        },
        "outputId": "a2b54689-d9ab-4fde-8d5e-88cdf5e48573"
      },
      "source": [
        "#Unique values of the columns\n",
        "for col in data.columns:\n",
        "  print(col)\n",
        "  print(data[col].value_counts())\n",
        "  print(\"\\n\")"
      ],
      "execution_count": null,
      "outputs": [
        {
          "output_type": "stream",
          "text": [
            "Date\n",
            "2020-01-02    169\n",
            "2020-01-08    164\n",
            "2020-01-10    162\n",
            "2020-01-09    162\n",
            "2020-01-13    162\n",
            "             ... \n",
            "2020-01-25      7\n",
            "2020-01-28      7\n",
            "2020-01-26      7\n",
            "2020-01-27      7\n",
            "2019-10-16      4\n",
            "Name: Date, Length: 257, dtype: int64\n",
            "\n",
            "\n",
            "product\n",
            "Product 1    16834\n",
            "Name: product, dtype: int64\n",
            "\n",
            "\n",
            "phase\n",
            "Performance    16834\n",
            "Name: phase, dtype: int64\n",
            "\n",
            "\n",
            "campaign_platform\n",
            "Google Ads      15101\n",
            "Facebook Ads     1733\n",
            "Name: campaign_platform, dtype: int64\n",
            "\n",
            "\n",
            "campaign_type\n",
            "Search         15101\n",
            "Conversions     1733\n",
            "Name: campaign_type, dtype: int64\n",
            "\n",
            "\n",
            "communication_medium\n",
            "Search Keywords    15101\n",
            "Creative            1733\n",
            "Name: communication_medium, dtype: int64\n",
            "\n",
            "\n",
            "subchannel\n",
            "Brand           7853\n",
            "Generic         4544\n",
            "Competitor      2704\n",
            "Facebook Ads    1733\n",
            "Name: subchannel, dtype: int64\n",
            "\n",
            "\n",
            "audience_type\n",
            "'-            15101\n",
            "Audience 1      813\n",
            "Audience 2      738\n",
            "Audience 3      182\n",
            "Name: audience_type, dtype: int64\n",
            "\n",
            "\n",
            "creative_type\n",
            "'-          15101\n",
            "Image        1130\n",
            "Carousal      603\n",
            "Name: creative_type, dtype: int64\n",
            "\n",
            "\n",
            "creative_name\n",
            "'-          15101\n",
            "Click         644\n",
            "Carousal      603\n",
            "Girl          486\n",
            "Name: creative_name, dtype: int64\n",
            "\n",
            "\n",
            "device\n",
            "Mobile     7357\n",
            "Desktop    6318\n",
            "device     1733\n",
            "Tablet     1426\n",
            "Name: device, dtype: int64\n",
            "\n",
            "\n",
            "age\n",
            "25-34           3097\n",
            "35-44           2865\n",
            "Undetermined    2586\n",
            "45-54           2499\n",
            "18-24           2472\n",
            "55-64           1757\n",
            "65 or more      1558\n",
            "Name: age, dtype: int64\n",
            "\n",
            "\n",
            "spends\n",
            "0.00      4104\n",
            "0.43        52\n",
            "0.46        42\n",
            "1.42        33\n",
            "1.43        32\n",
            "          ... \n",
            "37.64        1\n",
            "79.80        1\n",
            "151.67       1\n",
            "21.33        1\n",
            "20.69        1\n",
            "Name: spends, Length: 9087, dtype: int64\n",
            "\n",
            "\n",
            "impressions\n",
            "1        2164\n",
            "2        1216\n",
            "3         907\n",
            "4         715\n",
            "5         627\n",
            "         ... \n",
            "936         1\n",
            "920         1\n",
            "39819       1\n",
            "2793        1\n",
            "11234       1\n",
            "Name: impressions, Length: 1188, dtype: int64\n",
            "\n",
            "\n",
            "clicks\n",
            "0      4530\n",
            "1      2821\n",
            "2      1605\n",
            "3      1119\n",
            "4       759\n",
            "       ... \n",
            "391       1\n",
            "327       1\n",
            "279       1\n",
            "399       1\n",
            "215       1\n",
            "Name: clicks, Length: 263, dtype: int64\n",
            "\n",
            "\n",
            "link_clicks\n",
            "0.0      15101\n",
            "1.0        233\n",
            "2.0        104\n",
            "3.0         87\n",
            "4.0         64\n",
            "         ...  \n",
            "221.0        1\n",
            "244.0        1\n",
            "116.0        1\n",
            "88.0         1\n",
            "327.0        1\n",
            "Name: link_clicks, Length: 160, dtype: int64\n",
            "\n",
            "\n"
          ],
          "name": "stdout"
        }
      ]
    },
    {
      "cell_type": "code",
      "metadata": {
        "id": "OaLxw_-PjB4r",
        "colab": {
          "base_uri": "https://localhost:8080/",
          "height": 34
        },
        "outputId": "ee94eced-e06f-412b-c673-b7c78ffdc990"
      },
      "source": [
        "#removing unwanted columns: only one category\n",
        "data = data.drop(['product', 'phase'], axis=1)\n",
        "data.shape"
      ],
      "execution_count": null,
      "outputs": [
        {
          "output_type": "execute_result",
          "data": {
            "text/plain": [
              "(16834, 14)"
            ]
          },
          "metadata": {
            "tags": []
          },
          "execution_count": 4
        }
      ]
    },
    {
      "cell_type": "code",
      "metadata": {
        "id": "2QGqOPUkkOww",
        "colab": {
          "base_uri": "https://localhost:8080/",
          "height": 34
        },
        "outputId": "538a73c0-c46e-4153-a9bf-baac5f173517"
      },
      "source": [
        "#dropping missing values\n",
        "data = data.dropna()\n",
        "data.shape"
      ],
      "execution_count": null,
      "outputs": [
        {
          "output_type": "execute_result",
          "data": {
            "text/plain": [
              "(16288, 14)"
            ]
          },
          "metadata": {
            "tags": []
          },
          "execution_count": 5
        }
      ]
    },
    {
      "cell_type": "code",
      "metadata": {
        "id": "krV4_ohOmF3N",
        "colab": {
          "base_uri": "https://localhost:8080/",
          "height": 782
        },
        "outputId": "0af0f347-80bd-4feb-feae-7e061d386557"
      },
      "source": [
        "#pairplot - to see correlation\n",
        "plt.figure(figsize=(4,4))\n",
        "sns.pairplot(data,diag_kind='kde')"
      ],
      "execution_count": null,
      "outputs": [
        {
          "output_type": "execute_result",
          "data": {
            "text/plain": [
              "<seaborn.axisgrid.PairGrid at 0x7fc4d0d69748>"
            ]
          },
          "metadata": {
            "tags": []
          },
          "execution_count": 7
        },
        {
          "output_type": "display_data",
          "data": {
            "text/plain": [
              "<Figure size 432x432 with 0 Axes>"
            ]
          },
          "metadata": {
            "tags": []
          }
        },
        {
          "output_type": "display_data",
          "data": {
            "image/png": "[encoded data removed]",
            "text/plain": [
              "<Figure size 720x720 with 20 Axes>"
            ]
          },
          "metadata": {
            "tags": [],
            "needs_background": "light"
          }
        }
      ]
    },
    {
      "cell_type": "code",
      "metadata": {
        "id": "-994HwQ7mG0N",
        "colab": {
          "base_uri": "https://localhost:8080/",
          "height": 379
        },
        "outputId": "788f27b1-a75a-44fd-ac83-0cf8d9ef2cd0"
      },
      "source": [
        "#heatmap-Using Pearson Correlation\n",
        "plt.figure(figsize=(8,6))\n",
        "cor = data.corr()\n",
        "sns.heatmap(cor, annot=True, cmap=plt.cm.Reds)\n",
        "plt.show()"
      ],
      "execution_count": null,
      "outputs": [
        {
          "output_type": "display_data",
          "data": {
            "image/png": "[encoded data removed]",
            "text/plain": [
              "<Figure size 576x432 with 2 Axes>"
            ]
          },
          "metadata": {
            "tags": [],
            "needs_background": "light"
          }
        }
      ]
    },
    {
      "cell_type": "markdown",
      "metadata": {
        "id": "E5Wp0BwQpYXq"
      },
      "source": [
        "# **Data pre-processing**"
      ]
    },
    {
      "cell_type": "code",
      "metadata": {
        "id": "PpmOnodVnahp"
      },
      "source": [
        "#replacing \"-'\" and 'Undetermined' with NaN\n",
        "data = data.replace(\"'-\", np.nan)\n",
        "data = data.replace(\"Undetermined\", np.nan)"
      ],
      "execution_count": null,
      "outputs": []
    },
    {
      "cell_type": "code",
      "metadata": {
        "id": "cMxWK9wwpfG1",
        "colab": {
          "base_uri": "https://localhost:8080/",
          "height": 278
        },
        "outputId": "3b8c48cf-7e46-4c26-a8cf-71498d28a74e"
      },
      "source": [
        "#new missing values\n",
        "data.isnull().sum()"
      ],
      "execution_count": null,
      "outputs": [
        {
          "output_type": "execute_result",
          "data": {
            "text/plain": [
              "Date                        0\n",
              "campaign_platform           0\n",
              "campaign_type               0\n",
              "communication_medium        0\n",
              "subchannel                  0\n",
              "audience_type           15101\n",
              "creative_type           15101\n",
              "creative_name           15101\n",
              "device                      0\n",
              "age                      2586\n",
              "spends                      0\n",
              "impressions                 0\n",
              "clicks                      0\n",
              "link_clicks                 0\n",
              "dtype: int64"
            ]
          },
          "metadata": {
            "tags": []
          },
          "execution_count": 7
        }
      ]
    },
    {
      "cell_type": "code",
      "metadata": {
        "id": "0-qd7p7AiqKz"
      },
      "source": [
        "#imputing the missing values\n",
        "columns = ['audience_type', 'creative_name', 'creative_type', 'age']\n",
        "\n",
        "for col in columns:\n",
        "  p = data[col].value_counts(normalize=True)  # Series of probabilities\n",
        "  m = data[col].isnull()\n",
        "\n",
        "  np.random.seed(42)\n",
        "  rand_fill = np.random.choice(p.index, size=m.sum(), p=p)\n",
        "\n",
        "  data.loc[m, col] = rand_fill"
      ],
      "execution_count": null,
      "outputs": []
    },
    {
      "cell_type": "code",
      "metadata": {
        "id": "s0qLifI8rcsF",
        "colab": {
          "base_uri": "https://localhost:8080/",
          "height": 278
        },
        "outputId": "4c3a5bb2-ee9e-4066-8e0b-1d1cdb4cca2e"
      },
      "source": [
        "#no missing values\n",
        "data.isnull().sum()"
      ],
      "execution_count": null,
      "outputs": [
        {
          "output_type": "execute_result",
          "data": {
            "text/plain": [
              "Date                    0\n",
              "campaign_platform       0\n",
              "campaign_type           0\n",
              "communication_medium    0\n",
              "subchannel              0\n",
              "audience_type           0\n",
              "creative_type           0\n",
              "creative_name           0\n",
              "device                  0\n",
              "age                     0\n",
              "spends                  0\n",
              "impressions             0\n",
              "clicks                  0\n",
              "link_clicks             0\n",
              "dtype: int64"
            ]
          },
          "metadata": {
            "tags": []
          },
          "execution_count": 9
        }
      ]
    },
    {
      "cell_type": "code",
      "metadata": {
        "id": "PcNsXLiDrdZd",
        "colab": {
          "base_uri": "https://localhost:8080/",
          "height": 226
        },
        "outputId": "e56f2bc7-afc3-4e4a-d89d-3eea672e87e4"
      },
      "source": [
        "data.head()"
      ],
      "execution_count": null,
      "outputs": [
        {
          "output_type": "execute_result",
          "data": {
            "text/html": [
              "<div>\n",
              "<style scoped>\n",
              "    .dataframe tbody tr th:only-of-type {\n",
              "        vertical-align: middle;\n",
              "    }\n",
              "\n",
              "    .dataframe tbody tr th {\n",
              "        vertical-align: top;\n",
              "    }\n",
              "\n",
              "    .dataframe thead th {\n",
              "        text-align: right;\n",
              "    }\n",
              "</style>\n",
              "<table border=\"1\" class=\"dataframe\">\n",
              "  <thead>\n",
              "    <tr style=\"text-align: right;\">\n",
              "      <th></th>\n",
              "      <th>Date</th>\n",
              "      <th>campaign_platform</th>\n",
              "      <th>campaign_type</th>\n",
              "      <th>communication_medium</th>\n",
              "      <th>subchannel</th>\n",
              "      <th>audience_type</th>\n",
              "      <th>creative_type</th>\n",
              "      <th>creative_name</th>\n",
              "      <th>device</th>\n",
              "      <th>age</th>\n",
              "      <th>spends</th>\n",
              "      <th>impressions</th>\n",
              "      <th>clicks</th>\n",
              "      <th>link_clicks</th>\n",
              "    </tr>\n",
              "  </thead>\n",
              "  <tbody>\n",
              "    <tr>\n",
              "      <th>0</th>\n",
              "      <td>2019-10-16</td>\n",
              "      <td>Google Ads</td>\n",
              "      <td>Search</td>\n",
              "      <td>Search Keywords</td>\n",
              "      <td>Brand</td>\n",
              "      <td>Audience 1</td>\n",
              "      <td>Image</td>\n",
              "      <td>Click</td>\n",
              "      <td>Desktop</td>\n",
              "      <td>18-24</td>\n",
              "      <td>0.00</td>\n",
              "      <td>2</td>\n",
              "      <td>0</td>\n",
              "      <td>0.0</td>\n",
              "    </tr>\n",
              "    <tr>\n",
              "      <th>1</th>\n",
              "      <td>2019-10-16</td>\n",
              "      <td>Google Ads</td>\n",
              "      <td>Search</td>\n",
              "      <td>Search Keywords</td>\n",
              "      <td>Brand</td>\n",
              "      <td>Audience 3</td>\n",
              "      <td>Carousal</td>\n",
              "      <td>Girl</td>\n",
              "      <td>Desktop</td>\n",
              "      <td>25-34</td>\n",
              "      <td>0.00</td>\n",
              "      <td>5</td>\n",
              "      <td>0</td>\n",
              "      <td>0.0</td>\n",
              "    </tr>\n",
              "    <tr>\n",
              "      <th>2</th>\n",
              "      <td>2019-10-16</td>\n",
              "      <td>Google Ads</td>\n",
              "      <td>Search</td>\n",
              "      <td>Search Keywords</td>\n",
              "      <td>Brand</td>\n",
              "      <td>Audience 2</td>\n",
              "      <td>Carousal</td>\n",
              "      <td>Carousal</td>\n",
              "      <td>Desktop</td>\n",
              "      <td>35-44</td>\n",
              "      <td>0.00</td>\n",
              "      <td>1</td>\n",
              "      <td>0</td>\n",
              "      <td>0.0</td>\n",
              "    </tr>\n",
              "    <tr>\n",
              "      <th>3</th>\n",
              "      <td>2019-10-16</td>\n",
              "      <td>Google Ads</td>\n",
              "      <td>Search</td>\n",
              "      <td>Search Keywords</td>\n",
              "      <td>Brand</td>\n",
              "      <td>Audience 2</td>\n",
              "      <td>Image</td>\n",
              "      <td>Carousal</td>\n",
              "      <td>Desktop</td>\n",
              "      <td>35-44</td>\n",
              "      <td>14.63</td>\n",
              "      <td>5</td>\n",
              "      <td>3</td>\n",
              "      <td>0.0</td>\n",
              "    </tr>\n",
              "    <tr>\n",
              "      <th>4</th>\n",
              "      <td>2019-10-18</td>\n",
              "      <td>Google Ads</td>\n",
              "      <td>Search</td>\n",
              "      <td>Search Keywords</td>\n",
              "      <td>Brand</td>\n",
              "      <td>Audience 1</td>\n",
              "      <td>Image</td>\n",
              "      <td>Click</td>\n",
              "      <td>Desktop</td>\n",
              "      <td>18-24</td>\n",
              "      <td>53.31</td>\n",
              "      <td>10</td>\n",
              "      <td>2</td>\n",
              "      <td>0.0</td>\n",
              "    </tr>\n",
              "  </tbody>\n",
              "</table>\n",
              "</div>"
            ],
            "text/plain": [
              "        Date campaign_platform campaign_type  ... impressions clicks link_clicks\n",
              "0 2019-10-16        Google Ads        Search  ...           2      0         0.0\n",
              "1 2019-10-16        Google Ads        Search  ...           5      0         0.0\n",
              "2 2019-10-16        Google Ads        Search  ...           1      0         0.0\n",
              "3 2019-10-16        Google Ads        Search  ...           5      3         0.0\n",
              "4 2019-10-18        Google Ads        Search  ...          10      2         0.0\n",
              "\n",
              "[5 rows x 14 columns]"
            ]
          },
          "metadata": {
            "tags": []
          },
          "execution_count": 9
        }
      ]
    },
    {
      "cell_type": "markdown",
      "metadata": {
        "id": "YPLzui7NpIGM"
      },
      "source": [
        "# **One - hot Encoding**"
      ]
    },
    {
      "cell_type": "code",
      "metadata": {
        "id": "KtFLk9mRkSVS"
      },
      "source": [
        "# label encoding the data \n",
        "from sklearn.preprocessing import LabelEncoder \n",
        "le = LabelEncoder() \n",
        "\n",
        "cat_var = ['campaign_platform', 'campaign_type', 'communication_medium', 'subchannel', 'audience_type',\n",
        "           'creative_type', 'creative_name', 'device', 'age']\n",
        "\n",
        "for col in cat_var:\n",
        "  data[col]= le.fit_transform(data[col])"
      ],
      "execution_count": null,
      "outputs": []
    },
    {
      "cell_type": "code",
      "metadata": {
        "id": "5R-4c3oDtU7l",
        "colab": {
          "base_uri": "https://localhost:8080/",
          "height": 226
        },
        "outputId": "c6b4993d-b5f0-477a-ef09-179fa3226f23"
      },
      "source": [
        "data.head() #data is converted into numerical data types."
      ],
      "execution_count": null,
      "outputs": [
        {
          "output_type": "execute_result",
          "data": {
            "text/html": [
              "<div>\n",
              "<style scoped>\n",
              "    .dataframe tbody tr th:only-of-type {\n",
              "        vertical-align: middle;\n",
              "    }\n",
              "\n",
              "    .dataframe tbody tr th {\n",
              "        vertical-align: top;\n",
              "    }\n",
              "\n",
              "    .dataframe thead th {\n",
              "        text-align: right;\n",
              "    }\n",
              "</style>\n",
              "<table border=\"1\" class=\"dataframe\">\n",
              "  <thead>\n",
              "    <tr style=\"text-align: right;\">\n",
              "      <th></th>\n",
              "      <th>Date</th>\n",
              "      <th>campaign_platform</th>\n",
              "      <th>campaign_type</th>\n",
              "      <th>communication_medium</th>\n",
              "      <th>subchannel</th>\n",
              "      <th>audience_type</th>\n",
              "      <th>creative_type</th>\n",
              "      <th>creative_name</th>\n",
              "      <th>device</th>\n",
              "      <th>age</th>\n",
              "      <th>spends</th>\n",
              "      <th>impressions</th>\n",
              "      <th>clicks</th>\n",
              "      <th>link_clicks</th>\n",
              "    </tr>\n",
              "  </thead>\n",
              "  <tbody>\n",
              "    <tr>\n",
              "      <th>0</th>\n",
              "      <td>2019-10-16</td>\n",
              "      <td>1</td>\n",
              "      <td>1</td>\n",
              "      <td>1</td>\n",
              "      <td>0</td>\n",
              "      <td>0</td>\n",
              "      <td>1</td>\n",
              "      <td>1</td>\n",
              "      <td>0</td>\n",
              "      <td>0</td>\n",
              "      <td>0.00</td>\n",
              "      <td>2</td>\n",
              "      <td>0</td>\n",
              "      <td>0.0</td>\n",
              "    </tr>\n",
              "    <tr>\n",
              "      <th>1</th>\n",
              "      <td>2019-10-16</td>\n",
              "      <td>1</td>\n",
              "      <td>1</td>\n",
              "      <td>1</td>\n",
              "      <td>0</td>\n",
              "      <td>2</td>\n",
              "      <td>0</td>\n",
              "      <td>2</td>\n",
              "      <td>0</td>\n",
              "      <td>1</td>\n",
              "      <td>0.00</td>\n",
              "      <td>5</td>\n",
              "      <td>0</td>\n",
              "      <td>0.0</td>\n",
              "    </tr>\n",
              "    <tr>\n",
              "      <th>2</th>\n",
              "      <td>2019-10-16</td>\n",
              "      <td>1</td>\n",
              "      <td>1</td>\n",
              "      <td>1</td>\n",
              "      <td>0</td>\n",
              "      <td>1</td>\n",
              "      <td>0</td>\n",
              "      <td>0</td>\n",
              "      <td>0</td>\n",
              "      <td>2</td>\n",
              "      <td>0.00</td>\n",
              "      <td>1</td>\n",
              "      <td>0</td>\n",
              "      <td>0.0</td>\n",
              "    </tr>\n",
              "    <tr>\n",
              "      <th>3</th>\n",
              "      <td>2019-10-16</td>\n",
              "      <td>1</td>\n",
              "      <td>1</td>\n",
              "      <td>1</td>\n",
              "      <td>0</td>\n",
              "      <td>1</td>\n",
              "      <td>1</td>\n",
              "      <td>0</td>\n",
              "      <td>0</td>\n",
              "      <td>2</td>\n",
              "      <td>14.63</td>\n",
              "      <td>5</td>\n",
              "      <td>3</td>\n",
              "      <td>0.0</td>\n",
              "    </tr>\n",
              "    <tr>\n",
              "      <th>4</th>\n",
              "      <td>2019-10-18</td>\n",
              "      <td>1</td>\n",
              "      <td>1</td>\n",
              "      <td>1</td>\n",
              "      <td>0</td>\n",
              "      <td>0</td>\n",
              "      <td>1</td>\n",
              "      <td>1</td>\n",
              "      <td>0</td>\n",
              "      <td>0</td>\n",
              "      <td>53.31</td>\n",
              "      <td>10</td>\n",
              "      <td>2</td>\n",
              "      <td>0.0</td>\n",
              "    </tr>\n",
              "  </tbody>\n",
              "</table>\n",
              "</div>"
            ],
            "text/plain": [
              "        Date  campaign_platform  ...  clicks  link_clicks\n",
              "0 2019-10-16                  1  ...       0          0.0\n",
              "1 2019-10-16                  1  ...       0          0.0\n",
              "2 2019-10-16                  1  ...       0          0.0\n",
              "3 2019-10-16                  1  ...       3          0.0\n",
              "4 2019-10-18                  1  ...       2          0.0\n",
              "\n",
              "[5 rows x 14 columns]"
            ]
          },
          "metadata": {
            "tags": []
          },
          "execution_count": 11
        }
      ]
    },
    {
      "cell_type": "markdown",
      "metadata": {
        "id": "qyqlJHcCtyvB"
      },
      "source": [
        "# **Prediction**\n",
        "Taking 'clicks' as the target variable, we are going to predict the variable."
      ]
    },
    {
      "cell_type": "code",
      "metadata": {
        "id": "uBGoSGx6tW86"
      },
      "source": [
        "#dropping \"Date\" and \"link_clicks\"\n",
        "data = data.drop(['Date', 'link_clicks'], axis=1)"
      ],
      "execution_count": null,
      "outputs": []
    },
    {
      "cell_type": "code",
      "metadata": {
        "id": "qfp8oQQLuzqU",
        "colab": {
          "base_uri": "https://localhost:8080/",
          "height": 226
        },
        "outputId": "a008aa02-d73a-4de5-d2ea-703ce7c8f41b"
      },
      "source": [
        "data.head()"
      ],
      "execution_count": null,
      "outputs": [
        {
          "output_type": "execute_result",
          "data": {
            "text/html": [
              "<div>\n",
              "<style scoped>\n",
              "    .dataframe tbody tr th:only-of-type {\n",
              "        vertical-align: middle;\n",
              "    }\n",
              "\n",
              "    .dataframe tbody tr th {\n",
              "        vertical-align: top;\n",
              "    }\n",
              "\n",
              "    .dataframe thead th {\n",
              "        text-align: right;\n",
              "    }\n",
              "</style>\n",
              "<table border=\"1\" class=\"dataframe\">\n",
              "  <thead>\n",
              "    <tr style=\"text-align: right;\">\n",
              "      <th></th>\n",
              "      <th>campaign_platform</th>\n",
              "      <th>campaign_type</th>\n",
              "      <th>communication_medium</th>\n",
              "      <th>subchannel</th>\n",
              "      <th>audience_type</th>\n",
              "      <th>creative_type</th>\n",
              "      <th>creative_name</th>\n",
              "      <th>device</th>\n",
              "      <th>age</th>\n",
              "      <th>spends</th>\n",
              "      <th>impressions</th>\n",
              "      <th>clicks</th>\n",
              "    </tr>\n",
              "  </thead>\n",
              "  <tbody>\n",
              "    <tr>\n",
              "      <th>0</th>\n",
              "      <td>1</td>\n",
              "      <td>1</td>\n",
              "      <td>1</td>\n",
              "      <td>0</td>\n",
              "      <td>0</td>\n",
              "      <td>1</td>\n",
              "      <td>1</td>\n",
              "      <td>0</td>\n",
              "      <td>0</td>\n",
              "      <td>0.00</td>\n",
              "      <td>2</td>\n",
              "      <td>0</td>\n",
              "    </tr>\n",
              "    <tr>\n",
              "      <th>1</th>\n",
              "      <td>1</td>\n",
              "      <td>1</td>\n",
              "      <td>1</td>\n",
              "      <td>0</td>\n",
              "      <td>2</td>\n",
              "      <td>0</td>\n",
              "      <td>2</td>\n",
              "      <td>0</td>\n",
              "      <td>1</td>\n",
              "      <td>0.00</td>\n",
              "      <td>5</td>\n",
              "      <td>0</td>\n",
              "    </tr>\n",
              "    <tr>\n",
              "      <th>2</th>\n",
              "      <td>1</td>\n",
              "      <td>1</td>\n",
              "      <td>1</td>\n",
              "      <td>0</td>\n",
              "      <td>1</td>\n",
              "      <td>0</td>\n",
              "      <td>0</td>\n",
              "      <td>0</td>\n",
              "      <td>2</td>\n",
              "      <td>0.00</td>\n",
              "      <td>1</td>\n",
              "      <td>0</td>\n",
              "    </tr>\n",
              "    <tr>\n",
              "      <th>3</th>\n",
              "      <td>1</td>\n",
              "      <td>1</td>\n",
              "      <td>1</td>\n",
              "      <td>0</td>\n",
              "      <td>1</td>\n",
              "      <td>1</td>\n",
              "      <td>0</td>\n",
              "      <td>0</td>\n",
              "      <td>2</td>\n",
              "      <td>14.63</td>\n",
              "      <td>5</td>\n",
              "      <td>3</td>\n",
              "    </tr>\n",
              "    <tr>\n",
              "      <th>4</th>\n",
              "      <td>1</td>\n",
              "      <td>1</td>\n",
              "      <td>1</td>\n",
              "      <td>0</td>\n",
              "      <td>0</td>\n",
              "      <td>1</td>\n",
              "      <td>1</td>\n",
              "      <td>0</td>\n",
              "      <td>0</td>\n",
              "      <td>53.31</td>\n",
              "      <td>10</td>\n",
              "      <td>2</td>\n",
              "    </tr>\n",
              "  </tbody>\n",
              "</table>\n",
              "</div>"
            ],
            "text/plain": [
              "   campaign_platform  campaign_type  ...  impressions  clicks\n",
              "0                  1              1  ...            2       0\n",
              "1                  1              1  ...            5       0\n",
              "2                  1              1  ...            1       0\n",
              "3                  1              1  ...            5       3\n",
              "4                  1              1  ...           10       2\n",
              "\n",
              "[5 rows x 12 columns]"
            ]
          },
          "metadata": {
            "tags": []
          },
          "execution_count": 13
        }
      ]
    },
    {
      "cell_type": "code",
      "metadata": {
        "id": "AOK5GUE9vCnK"
      },
      "source": [
        "# independant variables\n",
        "col = list(data.columns)\n",
        "features = list(set(col) - set(['clicks']))\n",
        "x = data[features].values\n",
        "# the dependent variable\n",
        "y = data['clicks'].values"
      ],
      "execution_count": null,
      "outputs": []
    },
    {
      "cell_type": "code",
      "metadata": {
        "id": "cu8IxTPcvfgc",
        "colab": {
          "base_uri": "https://localhost:8080/",
          "height": 52
        },
        "outputId": "f3dd2fd8-cdf2-4200-f712-53c16dacfcbc"
      },
      "source": [
        "print(x.shape)\n",
        "print(y.shape)"
      ],
      "execution_count": null,
      "outputs": [
        {
          "output_type": "stream",
          "text": [
            "(16288, 11)\n",
            "(16288,)\n"
          ],
          "name": "stdout"
        }
      ]
    },
    {
      "cell_type": "code",
      "metadata": {
        "id": "LV0zfffOvkOT",
        "colab": {
          "base_uri": "https://localhost:8080/",
          "height": 86
        },
        "outputId": "39b8471c-6f6f-4cf7-b549-85bc2611c478"
      },
      "source": [
        "# Split X and y into training and test set in 70:30 ratio\n",
        "from sklearn.model_selection import train_test_split\n",
        "x_train, x_test, y_train, y_test = train_test_split(x, y, test_size=0.30, random_state=42)\n",
        "print(x_train.shape)\n",
        "print(x_test.shape)\n",
        "print(y_train.shape)\n",
        "print(y_test.shape)"
      ],
      "execution_count": null,
      "outputs": [
        {
          "output_type": "stream",
          "text": [
            "(11401, 11)\n",
            "(4887, 11)\n",
            "(11401,)\n",
            "(4887,)\n"
          ],
          "name": "stdout"
        }
      ]
    },
    {
      "cell_type": "code",
      "metadata": {
        "id": "W8UtOJNMv55T",
        "colab": {
          "base_uri": "https://localhost:8080/",
          "height": 34
        },
        "outputId": "924b8e87-2472-480b-d5aa-8f84261a1d96"
      },
      "source": [
        "#Linear Regression\n",
        "from sklearn.linear_model import LinearRegression\n",
        "regression_model = LinearRegression()\n",
        "regression_model.fit(x_train, y_train)"
      ],
      "execution_count": null,
      "outputs": [
        {
          "output_type": "execute_result",
          "data": {
            "text/plain": [
              "LinearRegression(copy_X=True, fit_intercept=True, n_jobs=None, normalize=False)"
            ]
          },
          "metadata": {
            "tags": []
          },
          "execution_count": 17
        }
      ]
    },
    {
      "cell_type": "code",
      "metadata": {
        "id": "60XG4WwWxbOh",
        "colab": {
          "base_uri": "https://localhost:8080/",
          "height": 86
        },
        "outputId": "f7d839ec-ab30-47b2-cc9b-87f16d29a5f4"
      },
      "source": [
        "#intercept\n",
        "intercept = regression_model.intercept_\n",
        "print(\"The intercept for our model is {}\".format(intercept))\n",
        "# regression coefficients \n",
        "print('Regression Coefficients: \\n', regression_model.coef_)"
      ],
      "execution_count": null,
      "outputs": [
        {
          "output_type": "stream",
          "text": [
            "The intercept for our model is 5.481276803329968\n",
            "Regression Coefficients: \n",
            " [ 1.56735724  4.45890179  1.50743374  1.29880672 -1.47508023 -1.47508023\n",
            " -1.47508023 -1.15154471  0.0118182   0.03153403 -1.29201013]\n"
          ],
          "name": "stdout"
        }
      ]
    },
    {
      "cell_type": "code",
      "metadata": {
        "id": "ZjQ03lLhxpUv"
      },
      "source": [
        "#prediction\n",
        "LR_pred = regression_model.predict(x_test)"
      ],
      "execution_count": null,
      "outputs": []
    },
    {
      "cell_type": "code",
      "metadata": {
        "id": "EQKH9xcByt8N",
        "colab": {
          "base_uri": "https://localhost:8080/",
          "height": 52
        },
        "outputId": "996ff9dd-1d80-4c2c-f1fb-904ab3772585"
      },
      "source": [
        "from sklearn.metrics import mean_squared_error, r2_score\n",
        "print('Mean squared error: %.2f'\n",
        "      % mean_squared_error(y_test, LR_pred))\n",
        "\n",
        "print('Coefficient of determination: %.3f'\n",
        "      % r2_score(y_test, LR_pred))"
      ],
      "execution_count": null,
      "outputs": [
        {
          "output_type": "stream",
          "text": [
            "Mean squared error: 214.01\n",
            "Coefficient of determination: 0.884\n"
          ],
          "name": "stdout"
        }
      ]
    }
  ]
}